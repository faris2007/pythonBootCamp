{
  "nbformat": 4,
  "nbformat_minor": 0,
  "metadata": {
    "colab": {
      "name": "Untitled2.ipynb",
      "provenance": []
    },
    "kernelspec": {
      "name": "python3",
      "display_name": "Python 3"
    }
  },
  "cells": [
    {
      "cell_type": "code",
      "metadata": {
        "colab": {
          "base_uri": "https://localhost:8080/"
        },
        "id": "aJUF7k_QTtmm",
        "outputId": "712da89b-e33c-4996-c809-bebb53d5e951"
      },
      "source": [
        "num1 = int(input(\"Enter the first number:\"))\r\n",
        "num2 = int(input(\"Enter the second number:\"))\r\n",
        "print(num1+num2)"
      ],
      "execution_count": 5,
      "outputs": [
        {
          "output_type": "stream",
          "text": [
            "Enter the first number:5\n",
            "Enter the second number:6\n",
            "11\n"
          ],
          "name": "stdout"
        }
      ]
    }
  ]
}