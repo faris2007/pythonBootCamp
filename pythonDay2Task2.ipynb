{
  "nbformat": 4,
  "nbformat_minor": 0,
  "metadata": {
    "colab": {
      "name": "Untitled2.ipynb",
      "provenance": [],
      "collapsed_sections": []
    },
    "kernelspec": {
      "name": "python3",
      "display_name": "Python 3"
    }
  },
  "cells": [
    {
      "cell_type": "code",
      "metadata": {
        "id": "J6aDkSUTCqsZ",
        "colab": {
          "base_uri": "https://localhost:8080/"
        },
        "outputId": "ed947b1c-4131-43cd-ffe6-f95b7c812fd4"
      },
      "source": [
        "import random\n",
        "mynum = random.randrange(0,10)\n",
        "trail = int(input(\"Enter a number of trails:\"))\n",
        "if trail == 0:\n",
        "  trail = random.randrange(1,10)\n",
        "guess = int(input(\"Enter a number between 0 and 10:\"))\n",
        "trail -=1\n",
        "while guess != mynum and trail > 0:\n",
        "    if guess < mynum:\n",
        "        print(\"Too Low\")\n",
        "    else:\n",
        "        print(\"Too High\")\n",
        "    guess = int(input(\"Try again, Enter a number between 0 and 10:\"))\n",
        "    trail = trail - 1\n",
        "\n",
        "if guess == mynum:\n",
        "    print(\"Great you got the correct number\")\n",
        "else:\n",
        "    print(\"Game Over\")\n",
        "print(\"Your Remaining Trials =\" , trail )"
      ],
      "execution_count": 17,
      "outputs": [
        {
          "output_type": "stream",
          "text": [
            "Enter a number of trails:5\n",
            "Enter a number between 0 and 10:1\n",
            "Too Low\n",
            "Try again, Enter a number between 0 and 10:2\n",
            "Too Low\n",
            "Try again, Enter a number between 0 and 10:3\n",
            "Too Low\n",
            "Try again, Enter a number between 0 and 10:4\n",
            "Too Low\n",
            "Try again, Enter a number between 0 and 10:5\n",
            "Game Over\n",
            "Your Remaining Trials = 0\n"
          ],
          "name": "stdout"
        }
      ]
    }
  ]
}
